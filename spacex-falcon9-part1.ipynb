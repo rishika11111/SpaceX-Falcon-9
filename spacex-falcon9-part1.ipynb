{
    "cells": [
        {
            "cell_type": "markdown",
            "metadata": {},
            "source": "# SpaceX  Falcon 9 - First Stage  Landing Prediction\n"
        },
        {
            "cell_type": "markdown",
            "metadata": {},
            "source": "# Part 1: Data Collection \n"
        },
        {
            "cell_type": "markdown",
            "metadata": {},
            "source": "### Project Overview"
        },
        {
            "cell_type": "markdown",
            "metadata": {},
            "source": "With the help of Data Science and Machine Learning, this project attempts to predict the success rate of the first stage landing of SpaceX's Falcon 9. \n\nOn its website, SpaceX promotes Falcon 9 rocket launches for 62 million dollars while other suppliers charge a rate starting at 165 million dollars per launch. A large portion of the savings is due to SpaceX's ability to reuse the first stage. If a prediction can be made as to whether the first stage will land or not, we can estimate the cost of a launch. \n\nThis gives an opportunity for the establishment of a new company to compete with SpaceX on centered around the cost-efficiency of rocket launches. Information provided here can be used in obtaining some useful insights."
        },
        {
            "cell_type": "markdown",
            "metadata": {},
            "source": "#### A Successful Launch looks like:"
        },
        {
            "cell_type": "markdown",
            "metadata": {},
            "source": "![](https://cf-courses-data.s3.us.cloud-object-storage.appdomain.cloud/IBMDeveloperSkillsNetwork-DS0701EN-SkillsNetwork/lab_v2/images/landing_1.gif)\n"
        },
        {
            "cell_type": "markdown",
            "metadata": {},
            "source": "#### Examples of unsuccessful landings:\nMost unsuccessful landings are planned. Space X performs a controlled landing in the oceans. "
        },
        {
            "cell_type": "markdown",
            "metadata": {},
            "source": "![](https://cf-courses-data.s3.us.cloud-object-storage.appdomain.cloud/IBMDeveloperSkillsNetwork-DS0701EN-SkillsNetwork/lab_v2/images/crash.gif)\n"
        },
        {
            "cell_type": "markdown",
            "metadata": {},
            "source": "## Objectives\n"
        },
        {
            "cell_type": "markdown",
            "metadata": {},
            "source": "Requests are made to the SpaceX API, followed by data wrangling and formating. "
        },
        {
            "cell_type": "markdown",
            "metadata": {},
            "source": "----\n"
        },
        {
            "cell_type": "markdown",
            "metadata": {},
            "source": "### Import Libraries and Define Auxiliary Functions\n"
        },
        {
            "cell_type": "code",
            "execution_count": 1,
            "metadata": {
                "tags": []
            },
            "outputs": [],
            "source": "# Requests allows us to make HTTP requests which we will use to get data from an API\nimport requests\n# Pandas is a software library written for the Python programming language for data manipulation and analysis.\nimport pandas as pd\n# NumPy is a library for the Python programming language, adding support for large, multi-dimensional arrays and matrices, along with a large collection of high-level mathematical functions to operate on these arrays\nimport numpy as np\n# Datetime is a library that allows us to represent dates\nimport datetime\n\n# Setting this option will print all collumns of a dataframe\npd.set_option('display.max_columns', None)\n# Setting this option will print all of the data in a feature\npd.set_option('display.max_colwidth', None)"
        },
        {
            "cell_type": "markdown",
            "metadata": {},
            "source": "Getting the booster name from the <code>rocket</code> column.\n"
        },
        {
            "cell_type": "code",
            "execution_count": 2,
            "metadata": {
                "tags": []
            },
            "outputs": [],
            "source": "# Takes the dataset and uses the rocket column to call the API and append the data to the list\ndef getBoosterVersion(data):\n    for x in data['rocket']:\n       if x:\n        response = requests.get(\"https://api.spacexdata.com/v4/rockets/\"+str(x)).json()\n        BoosterVersion.append(response['name'])"
        },
        {
            "cell_type": "markdown",
            "metadata": {},
            "source": "From the <code>launchpad</code> we would like to know the name of the launch site being used, the longitude, and the latitude.\n"
        },
        {
            "cell_type": "code",
            "execution_count": 3,
            "metadata": {
                "tags": []
            },
            "outputs": [],
            "source": "# Takes the dataset and uses the launchpad column to call the API and append the data to the list\ndef getLaunchSite(data):\n    for x in data['launchpad']:\n       if x:\n         response = requests.get(\"https://api.spacexdata.com/v4/launchpads/\"+str(x)).json()\n         Longitude.append(response['longitude'])\n         Latitude.append(response['latitude'])\n         LaunchSite.append(response['name'])"
        },
        {
            "cell_type": "markdown",
            "metadata": {},
            "source": "From the <code>payload</code> we would like to learn the mass of the payload and the orbit that it is going to.\n"
        },
        {
            "cell_type": "code",
            "execution_count": 4,
            "metadata": {
                "tags": []
            },
            "outputs": [],
            "source": "# Takes the dataset and uses the payloads column to call the API and append the data to the lists\ndef getPayloadData(data):\n    for load in data['payloads']:\n       if load:\n        response = requests.get(\"https://api.spacexdata.com/v4/payloads/\"+load).json()\n        PayloadMass.append(response['mass_kg'])\n        Orbit.append(response['orbit'])"
        },
        {
            "cell_type": "markdown",
            "metadata": {},
            "source": "From <code>cores</code> we would like to learn the outcome of the landing, the type of the landing, number of flights with that core, whether gridfins were used, wheter the core is reused, wheter legs were used, the landing pad used, the block of the core which is a number used to seperate version of cores, the number of times this specific core has been reused, and the serial of the core.\n"
        },
        {
            "cell_type": "code",
            "execution_count": 5,
            "metadata": {
                "tags": []
            },
            "outputs": [],
            "source": "# Takes the dataset and uses the cores column to call the API and append the data to the lists\ndef getCoreData(data):\n    for core in data['cores']:\n            if core['core'] != None:\n                response = requests.get(\"https://api.spacexdata.com/v4/cores/\"+core['core']).json()\n                Block.append(response['block'])\n                ReusedCount.append(response['reuse_count'])\n                Serial.append(response['serial'])\n            else:\n                Block.append(None)\n                ReusedCount.append(None)\n                Serial.append(None)\n            Outcome.append(str(core['landing_success'])+' '+str(core['landing_type']))\n            Flights.append(core['flight'])\n            GridFins.append(core['gridfins'])\n            Reused.append(core['reused'])\n            Legs.append(core['legs'])\n            LandingPad.append(core['landpad'])"
        },
        {
            "cell_type": "code",
            "execution_count": 6,
            "metadata": {
                "tags": []
            },
            "outputs": [],
            "source": "spacex_url=\"https://api.spacexdata.com/v4/launches/past\""
        },
        {
            "cell_type": "code",
            "execution_count": 7,
            "metadata": {
                "tags": []
            },
            "outputs": [],
            "source": "response = requests.get(spacex_url)"
        },
        {
            "cell_type": "markdown",
            "metadata": {},
            "source": "### 1. Parsing the SpaceX launch data using the GET request\n"
        },
        {
            "cell_type": "markdown",
            "metadata": {},
            "source": "For more consistent requested JSON results, the following static url is used:\n"
        },
        {
            "cell_type": "code",
            "execution_count": 9,
            "metadata": {
                "tags": []
            },
            "outputs": [],
            "source": "static_json_url='https://cf-courses-data.s3.us.cloud-object-storage.appdomain.cloud/IBM-DS0321EN-SkillsNetwork/datasets/API_call_spacex_api.json'\nresponse = requests.get(static_json_url)"
        },
        {
            "cell_type": "code",
            "execution_count": 10,
            "metadata": {
                "tags": []
            },
            "outputs": [
                {
                    "data": {
                        "text/plain": "200"
                    },
                    "execution_count": 10,
                    "metadata": {},
                    "output_type": "execute_result"
                }
            ],
            "source": "response.status_code"
        },
        {
            "cell_type": "code",
            "execution_count": 11,
            "metadata": {
                "tags": []
            },
            "outputs": [],
            "source": "data = pd.json_normalize(response.json())"
        },
        {
            "cell_type": "markdown",
            "metadata": {},
            "source": "Using the dataframe <code>data</code> print the first 5 rows\n"
        },
        {
            "cell_type": "code",
            "execution_count": 12,
            "metadata": {
                "tags": []
            },
            "outputs": [
                {
                    "data": {
                        "text/html": "<div>\n<style scoped>\n    .dataframe tbody tr th:only-of-type {\n        vertical-align: middle;\n    }\n\n    .dataframe tbody tr th {\n        vertical-align: top;\n    }\n\n    .dataframe thead th {\n        text-align: right;\n    }\n</style>\n<table border=\"1\" class=\"dataframe\">\n  <thead>\n    <tr style=\"text-align: right;\">\n      <th></th>\n      <th>static_fire_date_utc</th>\n      <th>static_fire_date_unix</th>\n      <th>tbd</th>\n      <th>net</th>\n      <th>window</th>\n      <th>rocket</th>\n      <th>success</th>\n      <th>details</th>\n      <th>crew</th>\n      <th>ships</th>\n      <th>capsules</th>\n      <th>payloads</th>\n      <th>launchpad</th>\n      <th>auto_update</th>\n      <th>failures</th>\n      <th>flight_number</th>\n      <th>name</th>\n      <th>date_utc</th>\n      <th>date_unix</th>\n      <th>date_local</th>\n      <th>date_precision</th>\n      <th>upcoming</th>\n      <th>cores</th>\n      <th>id</th>\n      <th>fairings.reused</th>\n      <th>fairings.recovery_attempt</th>\n      <th>fairings.recovered</th>\n      <th>fairings.ships</th>\n      <th>links.patch.small</th>\n      <th>links.patch.large</th>\n      <th>links.reddit.campaign</th>\n      <th>links.reddit.launch</th>\n      <th>links.reddit.media</th>\n      <th>links.reddit.recovery</th>\n      <th>links.flickr.small</th>\n      <th>links.flickr.original</th>\n      <th>links.presskit</th>\n      <th>links.webcast</th>\n      <th>links.youtube_id</th>\n      <th>links.article</th>\n      <th>links.wikipedia</th>\n      <th>fairings</th>\n    </tr>\n  </thead>\n  <tbody>\n    <tr>\n      <th>0</th>\n      <td>2006-03-17T00:00:00.000Z</td>\n      <td>1.142554e+09</td>\n      <td>False</td>\n      <td>False</td>\n      <td>0.0</td>\n      <td>5e9d0d95eda69955f709d1eb</td>\n      <td>False</td>\n      <td>Engine failure at 33 seconds and loss of vehicle</td>\n      <td>[]</td>\n      <td>[]</td>\n      <td>[]</td>\n      <td>[5eb0e4b5b6c3bb0006eeb1e1]</td>\n      <td>5e9e4502f5090995de566f86</td>\n      <td>True</td>\n      <td>[{'time': 33, 'altitude': None, 'reason': 'merlin engine failure'}]</td>\n      <td>1</td>\n      <td>FalconSat</td>\n      <td>2006-03-24T22:30:00.000Z</td>\n      <td>1143239400</td>\n      <td>2006-03-25T10:30:00+12:00</td>\n      <td>hour</td>\n      <td>False</td>\n      <td>[{'core': '5e9e289df35918033d3b2623', 'flight': 1, 'gridfins': False, 'legs': False, 'reused': False, 'landing_attempt': False, 'landing_success': None, 'landing_type': None, 'landpad': None}]</td>\n      <td>5eb87cd9ffd86e000604b32a</td>\n      <td>False</td>\n      <td>False</td>\n      <td>False</td>\n      <td>[]</td>\n      <td>https://images2.imgbox.com/3c/0e/T8iJcSN3_o.png</td>\n      <td>https://images2.imgbox.com/40/e3/GypSkayF_o.png</td>\n      <td>None</td>\n      <td>None</td>\n      <td>None</td>\n      <td>None</td>\n      <td>[]</td>\n      <td>[]</td>\n      <td>None</td>\n      <td>https://www.youtube.com/watch?v=0a_00nJ_Y88</td>\n      <td>0a_00nJ_Y88</td>\n      <td>https://www.space.com/2196-spacex-inaugural-falcon-1-rocket-lost-launch.html</td>\n      <td>https://en.wikipedia.org/wiki/DemoSat</td>\n      <td>NaN</td>\n    </tr>\n    <tr>\n      <th>1</th>\n      <td>None</td>\n      <td>NaN</td>\n      <td>False</td>\n      <td>False</td>\n      <td>0.0</td>\n      <td>5e9d0d95eda69955f709d1eb</td>\n      <td>False</td>\n      <td>Successful first stage burn and transition to second stage, maximum altitude 289 km, Premature engine shutdown at T+7 min 30 s, Failed to reach orbit, Failed to recover first stage</td>\n      <td>[]</td>\n      <td>[]</td>\n      <td>[]</td>\n      <td>[5eb0e4b6b6c3bb0006eeb1e2]</td>\n      <td>5e9e4502f5090995de566f86</td>\n      <td>True</td>\n      <td>[{'time': 301, 'altitude': 289, 'reason': 'harmonic oscillation leading to premature engine shutdown'}]</td>\n      <td>2</td>\n      <td>DemoSat</td>\n      <td>2007-03-21T01:10:00.000Z</td>\n      <td>1174439400</td>\n      <td>2007-03-21T13:10:00+12:00</td>\n      <td>hour</td>\n      <td>False</td>\n      <td>[{'core': '5e9e289ef35918416a3b2624', 'flight': 1, 'gridfins': False, 'legs': False, 'reused': False, 'landing_attempt': False, 'landing_success': None, 'landing_type': None, 'landpad': None}]</td>\n      <td>5eb87cdaffd86e000604b32b</td>\n      <td>False</td>\n      <td>False</td>\n      <td>False</td>\n      <td>[]</td>\n      <td>https://images2.imgbox.com/4f/e3/I0lkuJ2e_o.png</td>\n      <td>https://images2.imgbox.com/be/e7/iNqsqVYM_o.png</td>\n      <td>None</td>\n      <td>None</td>\n      <td>None</td>\n      <td>None</td>\n      <td>[]</td>\n      <td>[]</td>\n      <td>None</td>\n      <td>https://www.youtube.com/watch?v=Lk4zQ2wP-Nc</td>\n      <td>Lk4zQ2wP-Nc</td>\n      <td>https://www.space.com/3590-spacex-falcon-1-rocket-fails-reach-orbit.html</td>\n      <td>https://en.wikipedia.org/wiki/DemoSat</td>\n      <td>NaN</td>\n    </tr>\n    <tr>\n      <th>2</th>\n      <td>None</td>\n      <td>NaN</td>\n      <td>False</td>\n      <td>False</td>\n      <td>0.0</td>\n      <td>5e9d0d95eda69955f709d1eb</td>\n      <td>False</td>\n      <td>Residual stage 1 thrust led to collision between stage 1 and stage 2</td>\n      <td>[]</td>\n      <td>[]</td>\n      <td>[]</td>\n      <td>[5eb0e4b6b6c3bb0006eeb1e3, 5eb0e4b6b6c3bb0006eeb1e4]</td>\n      <td>5e9e4502f5090995de566f86</td>\n      <td>True</td>\n      <td>[{'time': 140, 'altitude': 35, 'reason': 'residual stage-1 thrust led to collision between stage 1 and stage 2'}]</td>\n      <td>3</td>\n      <td>Trailblazer</td>\n      <td>2008-08-03T03:34:00.000Z</td>\n      <td>1217734440</td>\n      <td>2008-08-03T15:34:00+12:00</td>\n      <td>hour</td>\n      <td>False</td>\n      <td>[{'core': '5e9e289ef3591814873b2625', 'flight': 1, 'gridfins': False, 'legs': False, 'reused': False, 'landing_attempt': False, 'landing_success': None, 'landing_type': None, 'landpad': None}]</td>\n      <td>5eb87cdbffd86e000604b32c</td>\n      <td>False</td>\n      <td>False</td>\n      <td>False</td>\n      <td>[]</td>\n      <td>https://images2.imgbox.com/3d/86/cnu0pan8_o.png</td>\n      <td>https://images2.imgbox.com/4b/bd/d8UxLh4q_o.png</td>\n      <td>None</td>\n      <td>None</td>\n      <td>None</td>\n      <td>None</td>\n      <td>[]</td>\n      <td>[]</td>\n      <td>None</td>\n      <td>https://www.youtube.com/watch?v=v0w9p3U8860</td>\n      <td>v0w9p3U8860</td>\n      <td>http://www.spacex.com/news/2013/02/11/falcon-1-flight-3-mission-summary</td>\n      <td>https://en.wikipedia.org/wiki/Trailblazer_(satellite)</td>\n      <td>NaN</td>\n    </tr>\n    <tr>\n      <th>3</th>\n      <td>2008-09-20T00:00:00.000Z</td>\n      <td>1.221869e+09</td>\n      <td>False</td>\n      <td>False</td>\n      <td>0.0</td>\n      <td>5e9d0d95eda69955f709d1eb</td>\n      <td>True</td>\n      <td>Ratsat was carried to orbit on the first successful orbital launch of any privately funded and developed, liquid-propelled carrier rocket, the\u00a0SpaceX Falcon 1</td>\n      <td>[]</td>\n      <td>[]</td>\n      <td>[]</td>\n      <td>[5eb0e4b7b6c3bb0006eeb1e5]</td>\n      <td>5e9e4502f5090995de566f86</td>\n      <td>True</td>\n      <td>[]</td>\n      <td>4</td>\n      <td>RatSat</td>\n      <td>2008-09-28T23:15:00.000Z</td>\n      <td>1222643700</td>\n      <td>2008-09-28T11:15:00+12:00</td>\n      <td>hour</td>\n      <td>False</td>\n      <td>[{'core': '5e9e289ef3591855dc3b2626', 'flight': 1, 'gridfins': False, 'legs': False, 'reused': False, 'landing_attempt': False, 'landing_success': None, 'landing_type': None, 'landpad': None}]</td>\n      <td>5eb87cdbffd86e000604b32d</td>\n      <td>False</td>\n      <td>False</td>\n      <td>False</td>\n      <td>[]</td>\n      <td>https://images2.imgbox.com/e9/c9/T8CfiSYb_o.png</td>\n      <td>https://images2.imgbox.com/e0/a7/FNjvKlXW_o.png</td>\n      <td>None</td>\n      <td>None</td>\n      <td>None</td>\n      <td>None</td>\n      <td>[]</td>\n      <td>[]</td>\n      <td>None</td>\n      <td>https://www.youtube.com/watch?v=dLQ2tZEH6G0</td>\n      <td>dLQ2tZEH6G0</td>\n      <td>https://en.wikipedia.org/wiki/Ratsat</td>\n      <td>https://en.wikipedia.org/wiki/Ratsat</td>\n      <td>NaN</td>\n    </tr>\n    <tr>\n      <th>4</th>\n      <td>None</td>\n      <td>NaN</td>\n      <td>False</td>\n      <td>False</td>\n      <td>0.0</td>\n      <td>5e9d0d95eda69955f709d1eb</td>\n      <td>True</td>\n      <td>None</td>\n      <td>[]</td>\n      <td>[]</td>\n      <td>[]</td>\n      <td>[5eb0e4b7b6c3bb0006eeb1e6]</td>\n      <td>5e9e4502f5090995de566f86</td>\n      <td>True</td>\n      <td>[]</td>\n      <td>5</td>\n      <td>RazakSat</td>\n      <td>2009-07-13T03:35:00.000Z</td>\n      <td>1247456100</td>\n      <td>2009-07-13T15:35:00+12:00</td>\n      <td>hour</td>\n      <td>False</td>\n      <td>[{'core': '5e9e289ef359184f103b2627', 'flight': 1, 'gridfins': False, 'legs': False, 'reused': False, 'landing_attempt': False, 'landing_success': None, 'landing_type': None, 'landpad': None}]</td>\n      <td>5eb87cdcffd86e000604b32e</td>\n      <td>False</td>\n      <td>False</td>\n      <td>False</td>\n      <td>[]</td>\n      <td>https://images2.imgbox.com/a7/ba/NBZSw3Ho_o.png</td>\n      <td>https://images2.imgbox.com/8d/fc/0qdZMWWx_o.png</td>\n      <td>None</td>\n      <td>None</td>\n      <td>None</td>\n      <td>None</td>\n      <td>[]</td>\n      <td>[]</td>\n      <td>http://www.spacex.com/press/2012/12/19/spacexs-falcon-1-successfully-delivers-razaksat-satellite-orbit</td>\n      <td>https://www.youtube.com/watch?v=yTaIDooc8Og</td>\n      <td>yTaIDooc8Og</td>\n      <td>http://www.spacex.com/news/2013/02/12/falcon-1-flight-5</td>\n      <td>https://en.wikipedia.org/wiki/RazakSAT</td>\n      <td>NaN</td>\n    </tr>\n  </tbody>\n</table>\n</div>",
                        "text/plain": "       static_fire_date_utc  static_fire_date_unix    tbd    net  window  \\\n0  2006-03-17T00:00:00.000Z           1.142554e+09  False  False     0.0   \n1                      None                    NaN  False  False     0.0   \n2                      None                    NaN  False  False     0.0   \n3  2008-09-20T00:00:00.000Z           1.221869e+09  False  False     0.0   \n4                      None                    NaN  False  False     0.0   \n\n                     rocket  success  \\\n0  5e9d0d95eda69955f709d1eb    False   \n1  5e9d0d95eda69955f709d1eb    False   \n2  5e9d0d95eda69955f709d1eb    False   \n3  5e9d0d95eda69955f709d1eb     True   \n4  5e9d0d95eda69955f709d1eb     True   \n\n                                                                                                                                                                                details  \\\n0                                                                                                                                      Engine failure at 33 seconds and loss of vehicle   \n1  Successful first stage burn and transition to second stage, maximum altitude 289 km, Premature engine shutdown at T+7 min 30 s, Failed to reach orbit, Failed to recover first stage   \n2                                                                                                                  Residual stage 1 thrust led to collision between stage 1 and stage 2   \n3                        Ratsat was carried to orbit on the first successful orbital launch of any privately funded and developed, liquid-propelled carrier rocket, the\u00a0SpaceX Falcon 1   \n4                                                                                                                                                                                  None   \n\n  crew ships capsules                                              payloads  \\\n0   []    []       []                            [5eb0e4b5b6c3bb0006eeb1e1]   \n1   []    []       []                            [5eb0e4b6b6c3bb0006eeb1e2]   \n2   []    []       []  [5eb0e4b6b6c3bb0006eeb1e3, 5eb0e4b6b6c3bb0006eeb1e4]   \n3   []    []       []                            [5eb0e4b7b6c3bb0006eeb1e5]   \n4   []    []       []                            [5eb0e4b7b6c3bb0006eeb1e6]   \n\n                  launchpad  auto_update  \\\n0  5e9e4502f5090995de566f86         True   \n1  5e9e4502f5090995de566f86         True   \n2  5e9e4502f5090995de566f86         True   \n3  5e9e4502f5090995de566f86         True   \n4  5e9e4502f5090995de566f86         True   \n\n                                                                                                            failures  \\\n0                                                [{'time': 33, 'altitude': None, 'reason': 'merlin engine failure'}]   \n1            [{'time': 301, 'altitude': 289, 'reason': 'harmonic oscillation leading to premature engine shutdown'}]   \n2  [{'time': 140, 'altitude': 35, 'reason': 'residual stage-1 thrust led to collision between stage 1 and stage 2'}]   \n3                                                                                                                 []   \n4                                                                                                                 []   \n\n   flight_number         name                  date_utc   date_unix  \\\n0              1    FalconSat  2006-03-24T22:30:00.000Z  1143239400   \n1              2      DemoSat  2007-03-21T01:10:00.000Z  1174439400   \n2              3  Trailblazer  2008-08-03T03:34:00.000Z  1217734440   \n3              4       RatSat  2008-09-28T23:15:00.000Z  1222643700   \n4              5     RazakSat  2009-07-13T03:35:00.000Z  1247456100   \n\n                  date_local date_precision  upcoming  \\\n0  2006-03-25T10:30:00+12:00           hour     False   \n1  2007-03-21T13:10:00+12:00           hour     False   \n2  2008-08-03T15:34:00+12:00           hour     False   \n3  2008-09-28T11:15:00+12:00           hour     False   \n4  2009-07-13T15:35:00+12:00           hour     False   \n\n                                                                                                                                                                                              cores  \\\n0  [{'core': '5e9e289df35918033d3b2623', 'flight': 1, 'gridfins': False, 'legs': False, 'reused': False, 'landing_attempt': False, 'landing_success': None, 'landing_type': None, 'landpad': None}]   \n1  [{'core': '5e9e289ef35918416a3b2624', 'flight': 1, 'gridfins': False, 'legs': False, 'reused': False, 'landing_attempt': False, 'landing_success': None, 'landing_type': None, 'landpad': None}]   \n2  [{'core': '5e9e289ef3591814873b2625', 'flight': 1, 'gridfins': False, 'legs': False, 'reused': False, 'landing_attempt': False, 'landing_success': None, 'landing_type': None, 'landpad': None}]   \n3  [{'core': '5e9e289ef3591855dc3b2626', 'flight': 1, 'gridfins': False, 'legs': False, 'reused': False, 'landing_attempt': False, 'landing_success': None, 'landing_type': None, 'landpad': None}]   \n4  [{'core': '5e9e289ef359184f103b2627', 'flight': 1, 'gridfins': False, 'legs': False, 'reused': False, 'landing_attempt': False, 'landing_success': None, 'landing_type': None, 'landpad': None}]   \n\n                         id fairings.reused fairings.recovery_attempt  \\\n0  5eb87cd9ffd86e000604b32a           False                     False   \n1  5eb87cdaffd86e000604b32b           False                     False   \n2  5eb87cdbffd86e000604b32c           False                     False   \n3  5eb87cdbffd86e000604b32d           False                     False   \n4  5eb87cdcffd86e000604b32e           False                     False   \n\n  fairings.recovered fairings.ships  \\\n0              False             []   \n1              False             []   \n2              False             []   \n3              False             []   \n4              False             []   \n\n                                 links.patch.small  \\\n0  https://images2.imgbox.com/3c/0e/T8iJcSN3_o.png   \n1  https://images2.imgbox.com/4f/e3/I0lkuJ2e_o.png   \n2  https://images2.imgbox.com/3d/86/cnu0pan8_o.png   \n3  https://images2.imgbox.com/e9/c9/T8CfiSYb_o.png   \n4  https://images2.imgbox.com/a7/ba/NBZSw3Ho_o.png   \n\n                                 links.patch.large links.reddit.campaign  \\\n0  https://images2.imgbox.com/40/e3/GypSkayF_o.png                  None   \n1  https://images2.imgbox.com/be/e7/iNqsqVYM_o.png                  None   \n2  https://images2.imgbox.com/4b/bd/d8UxLh4q_o.png                  None   \n3  https://images2.imgbox.com/e0/a7/FNjvKlXW_o.png                  None   \n4  https://images2.imgbox.com/8d/fc/0qdZMWWx_o.png                  None   \n\n  links.reddit.launch links.reddit.media links.reddit.recovery  \\\n0                None               None                  None   \n1                None               None                  None   \n2                None               None                  None   \n3                None               None                  None   \n4                None               None                  None   \n\n  links.flickr.small links.flickr.original  \\\n0                 []                    []   \n1                 []                    []   \n2                 []                    []   \n3                 []                    []   \n4                 []                    []   \n\n                                                                                           links.presskit  \\\n0                                                                                                    None   \n1                                                                                                    None   \n2                                                                                                    None   \n3                                                                                                    None   \n4  http://www.spacex.com/press/2012/12/19/spacexs-falcon-1-successfully-delivers-razaksat-satellite-orbit   \n\n                                 links.webcast links.youtube_id  \\\n0  https://www.youtube.com/watch?v=0a_00nJ_Y88      0a_00nJ_Y88   \n1  https://www.youtube.com/watch?v=Lk4zQ2wP-Nc      Lk4zQ2wP-Nc   \n2  https://www.youtube.com/watch?v=v0w9p3U8860      v0w9p3U8860   \n3  https://www.youtube.com/watch?v=dLQ2tZEH6G0      dLQ2tZEH6G0   \n4  https://www.youtube.com/watch?v=yTaIDooc8Og      yTaIDooc8Og   \n\n                                                                  links.article  \\\n0  https://www.space.com/2196-spacex-inaugural-falcon-1-rocket-lost-launch.html   \n1      https://www.space.com/3590-spacex-falcon-1-rocket-fails-reach-orbit.html   \n2       http://www.spacex.com/news/2013/02/11/falcon-1-flight-3-mission-summary   \n3                                          https://en.wikipedia.org/wiki/Ratsat   \n4                       http://www.spacex.com/news/2013/02/12/falcon-1-flight-5   \n\n                                         links.wikipedia  fairings  \n0                  https://en.wikipedia.org/wiki/DemoSat       NaN  \n1                  https://en.wikipedia.org/wiki/DemoSat       NaN  \n2  https://en.wikipedia.org/wiki/Trailblazer_(satellite)       NaN  \n3                   https://en.wikipedia.org/wiki/Ratsat       NaN  \n4                 https://en.wikipedia.org/wiki/RazakSAT       NaN  "
                    },
                    "execution_count": 12,
                    "metadata": {},
                    "output_type": "execute_result"
                }
            ],
            "source": "data.head()"
        },
        {
            "cell_type": "markdown",
            "metadata": {},
            "source": "A lot of the data are IDs. (For example, the rocket column has no information about the rocket but just an identification number). \nThe relevant information for respectie IDs are extracted below."
        },
        {
            "cell_type": "code",
            "execution_count": 13,
            "metadata": {
                "tags": []
            },
            "outputs": [],
            "source": "data = data[['rocket', 'payloads', 'launchpad', 'cores', 'flight_number', 'date_utc']]\n\n# Removing rows with multiple cores because those are falcon rockets with 2 extra rocket boosters and rows that have multiple payloads in a single rocket.\ndata = data[data['cores'].map(len)==1]\ndata = data[data['payloads'].map(len)==1]\n\n# Since payloads and cores are lists of size 1, extracting the single value in the list and replacing the feature.\ndata['cores'] = data['cores'].map(lambda x : x[0])\ndata['payloads'] = data['payloads'].map(lambda x : x[0])\n\ndata['date'] = pd.to_datetime(data['date_utc']).dt.date\n\n# Restricting launches based on the dates\ndata = data[data['date'] <= datetime.date(2020, 11, 13)]"
        },
        {
            "cell_type": "markdown",
            "metadata": {},
            "source": "* From the <code>rocket</code> - extracting the booster name\n\n* From the <code>payload</code> - extracting the mass of the payload and the destined orbit\n\n* From the <code>launchpad</code> - extracting name of the launch site being used, the longitude, and the latitude.\n\n* From <code>cores</code> - extracting outcome of the landing, the type of the landing, number of flights with that core, whether gridfins were used, whether the core is reused, whether legs were used, the landing pad used, the block of the core which is a number used to seperate version of cores, the number of times this specific core has been reused, and the serial of the core.\n\nThe data from these requests will be stored in lists and will be used to create a new dataframe.\n"
        },
        {
            "cell_type": "code",
            "execution_count": 14,
            "metadata": {
                "tags": []
            },
            "outputs": [],
            "source": "#Global variables \nBoosterVersion = []\nPayloadMass = []\nOrbit = []\nLaunchSite = []\nOutcome = []\nFlights = []\nGridFins = []\nReused = []\nLegs = []\nLandingPad = []\nBlock = []\nReusedCount = []\nSerial = []\nLongitude = []\nLatitude = []"
        },
        {
            "cell_type": "markdown",
            "metadata": {},
            "source": "These functions will apply the outputs globally to the above variables. \n"
        },
        {
            "cell_type": "code",
            "execution_count": 15,
            "metadata": {
                "tags": []
            },
            "outputs": [
                {
                    "data": {
                        "text/plain": "[]"
                    },
                    "execution_count": 15,
                    "metadata": {},
                    "output_type": "execute_result"
                }
            ],
            "source": "BoosterVersion"
        },
        {
            "cell_type": "markdown",
            "metadata": {},
            "source": "Now, let's apply <code> getBoosterVersion</code> function method to get the booster version\n"
        },
        {
            "cell_type": "code",
            "execution_count": 16,
            "metadata": {
                "tags": []
            },
            "outputs": [],
            "source": "# Call getBoosterVersion\ngetBoosterVersion(data)"
        },
        {
            "cell_type": "markdown",
            "metadata": {},
            "source": "the list has now been update \n"
        },
        {
            "cell_type": "code",
            "execution_count": 17,
            "metadata": {
                "tags": []
            },
            "outputs": [
                {
                    "data": {
                        "text/plain": "['Falcon 1', 'Falcon 1', 'Falcon 1', 'Falcon 1', 'Falcon 9']"
                    },
                    "execution_count": 17,
                    "metadata": {},
                    "output_type": "execute_result"
                }
            ],
            "source": "BoosterVersion[0:5]"
        },
        {
            "cell_type": "code",
            "execution_count": 18,
            "metadata": {
                "tags": []
            },
            "outputs": [],
            "source": "# Call getLaunchSite\ngetLaunchSite(data)"
        },
        {
            "cell_type": "code",
            "execution_count": 19,
            "metadata": {
                "tags": []
            },
            "outputs": [],
            "source": "# Call getPayloadData\ngetPayloadData(data)"
        },
        {
            "cell_type": "code",
            "execution_count": 20,
            "metadata": {
                "tags": []
            },
            "outputs": [],
            "source": "# Call getCoreData\ngetCoreData(data)"
        },
        {
            "cell_type": "code",
            "execution_count": 21,
            "metadata": {
                "tags": []
            },
            "outputs": [],
            "source": "launch_dict = {'FlightNumber': list(data['flight_number']),\n'Date': list(data['date']),\n'BoosterVersion':BoosterVersion,\n'PayloadMass':PayloadMass,\n'Orbit':Orbit,\n'LaunchSite':LaunchSite,\n'Outcome':Outcome,\n'Flights':Flights,\n'GridFins':GridFins,\n'Reused':Reused,\n'Legs':Legs,\n'LandingPad':LandingPad,\n'Block':Block,\n'ReusedCount':ReusedCount,\n'Serial':Serial,\n'Longitude': Longitude,\n'Latitude': Latitude}\n"
        },
        {
            "cell_type": "code",
            "execution_count": 22,
            "metadata": {
                "tags": []
            },
            "outputs": [],
            "source": "df = pd.DataFrame(launch_dict)"
        },
        {
            "cell_type": "code",
            "execution_count": 23,
            "metadata": {
                "tags": []
            },
            "outputs": [
                {
                    "data": {
                        "text/html": "<div>\n<style scoped>\n    .dataframe tbody tr th:only-of-type {\n        vertical-align: middle;\n    }\n\n    .dataframe tbody tr th {\n        vertical-align: top;\n    }\n\n    .dataframe thead th {\n        text-align: right;\n    }\n</style>\n<table border=\"1\" class=\"dataframe\">\n  <thead>\n    <tr style=\"text-align: right;\">\n      <th></th>\n      <th>FlightNumber</th>\n      <th>Date</th>\n      <th>BoosterVersion</th>\n      <th>PayloadMass</th>\n      <th>Orbit</th>\n      <th>LaunchSite</th>\n      <th>Outcome</th>\n      <th>Flights</th>\n      <th>GridFins</th>\n      <th>Reused</th>\n      <th>Legs</th>\n      <th>LandingPad</th>\n      <th>Block</th>\n      <th>ReusedCount</th>\n      <th>Serial</th>\n      <th>Longitude</th>\n      <th>Latitude</th>\n    </tr>\n  </thead>\n  <tbody>\n    <tr>\n      <th>0</th>\n      <td>1</td>\n      <td>2006-03-24</td>\n      <td>Falcon 1</td>\n      <td>20.0</td>\n      <td>LEO</td>\n      <td>Kwajalein Atoll</td>\n      <td>None None</td>\n      <td>1</td>\n      <td>False</td>\n      <td>False</td>\n      <td>False</td>\n      <td>None</td>\n      <td>NaN</td>\n      <td>0</td>\n      <td>Merlin1A</td>\n      <td>167.743129</td>\n      <td>9.047721</td>\n    </tr>\n    <tr>\n      <th>1</th>\n      <td>2</td>\n      <td>2007-03-21</td>\n      <td>Falcon 1</td>\n      <td>NaN</td>\n      <td>LEO</td>\n      <td>Kwajalein Atoll</td>\n      <td>None None</td>\n      <td>1</td>\n      <td>False</td>\n      <td>False</td>\n      <td>False</td>\n      <td>None</td>\n      <td>NaN</td>\n      <td>0</td>\n      <td>Merlin2A</td>\n      <td>167.743129</td>\n      <td>9.047721</td>\n    </tr>\n    <tr>\n      <th>2</th>\n      <td>4</td>\n      <td>2008-09-28</td>\n      <td>Falcon 1</td>\n      <td>165.0</td>\n      <td>LEO</td>\n      <td>Kwajalein Atoll</td>\n      <td>None None</td>\n      <td>1</td>\n      <td>False</td>\n      <td>False</td>\n      <td>False</td>\n      <td>None</td>\n      <td>NaN</td>\n      <td>0</td>\n      <td>Merlin2C</td>\n      <td>167.743129</td>\n      <td>9.047721</td>\n    </tr>\n    <tr>\n      <th>3</th>\n      <td>5</td>\n      <td>2009-07-13</td>\n      <td>Falcon 1</td>\n      <td>200.0</td>\n      <td>LEO</td>\n      <td>Kwajalein Atoll</td>\n      <td>None None</td>\n      <td>1</td>\n      <td>False</td>\n      <td>False</td>\n      <td>False</td>\n      <td>None</td>\n      <td>NaN</td>\n      <td>0</td>\n      <td>Merlin3C</td>\n      <td>167.743129</td>\n      <td>9.047721</td>\n    </tr>\n    <tr>\n      <th>4</th>\n      <td>6</td>\n      <td>2010-06-04</td>\n      <td>Falcon 9</td>\n      <td>NaN</td>\n      <td>LEO</td>\n      <td>CCSFS SLC 40</td>\n      <td>None None</td>\n      <td>1</td>\n      <td>False</td>\n      <td>False</td>\n      <td>False</td>\n      <td>None</td>\n      <td>1.0</td>\n      <td>0</td>\n      <td>B0003</td>\n      <td>-80.577366</td>\n      <td>28.561857</td>\n    </tr>\n  </tbody>\n</table>\n</div>",
                        "text/plain": "   FlightNumber        Date BoosterVersion  PayloadMass Orbit  \\\n0             1  2006-03-24       Falcon 1         20.0   LEO   \n1             2  2007-03-21       Falcon 1          NaN   LEO   \n2             4  2008-09-28       Falcon 1        165.0   LEO   \n3             5  2009-07-13       Falcon 1        200.0   LEO   \n4             6  2010-06-04       Falcon 9          NaN   LEO   \n\n        LaunchSite    Outcome  Flights  GridFins  Reused   Legs LandingPad  \\\n0  Kwajalein Atoll  None None        1     False   False  False       None   \n1  Kwajalein Atoll  None None        1     False   False  False       None   \n2  Kwajalein Atoll  None None        1     False   False  False       None   \n3  Kwajalein Atoll  None None        1     False   False  False       None   \n4     CCSFS SLC 40  None None        1     False   False  False       None   \n\n   Block  ReusedCount    Serial   Longitude   Latitude  \n0    NaN            0  Merlin1A  167.743129   9.047721  \n1    NaN            0  Merlin2A  167.743129   9.047721  \n2    NaN            0  Merlin2C  167.743129   9.047721  \n3    NaN            0  Merlin3C  167.743129   9.047721  \n4    1.0            0     B0003  -80.577366  28.561857  "
                    },
                    "execution_count": 23,
                    "metadata": {},
                    "output_type": "execute_result"
                }
            ],
            "source": "df.head()"
        },
        {
            "cell_type": "markdown",
            "metadata": {},
            "source": "### 2. Filtering the dataframe to only include `Falcon 9` launches\n"
        },
        {
            "cell_type": "markdown",
            "metadata": {},
            "source": "Filtering the data dataframe using the <code>BoosterVersion</code> column to only keep the Falcon 9 launches.\n"
        },
        {
            "cell_type": "code",
            "execution_count": 24,
            "metadata": {
                "tags": []
            },
            "outputs": [
                {
                    "data": {
                        "text/plain": "Falcon 9    90\nName: BoosterVersion, dtype: int64"
                    },
                    "execution_count": 24,
                    "metadata": {},
                    "output_type": "execute_result"
                }
            ],
            "source": "data_falcon9 = df[df['BoosterVersion']=='Falcon 9']\ndata_falcon9['BoosterVersion'].value_counts()"
        },
        {
            "cell_type": "code",
            "execution_count": 25,
            "metadata": {
                "tags": []
            },
            "outputs": [
                {
                    "name": "stderr",
                    "output_type": "stream",
                    "text": "/tmp/wsuser/ipykernel_164/3987264281.py:1: SettingWithCopyWarning: \nA value is trying to be set on a copy of a slice from a DataFrame.\nTry using .loc[row_indexer,col_indexer] = value instead\n\nSee the caveats in the documentation: https://pandas.pydata.org/pandas-docs/stable/user_guide/indexing.html#returning-a-view-versus-a-copy\n  data_falcon9.loc[:,'FlightNumber'] = list(range(1, data_falcon9.shape[0]+1))\n"
                }
            ],
            "source": "data_falcon9.loc[:,'FlightNumber'] = list(range(1, data_falcon9.shape[0]+1))"
        },
        {
            "cell_type": "markdown",
            "metadata": {},
            "source": "## Data Wrangling\n"
        },
        {
            "cell_type": "markdown",
            "metadata": {},
            "source": "We can see below that some of the rows are missing values in our dataset.\n"
        },
        {
            "cell_type": "code",
            "execution_count": 26,
            "metadata": {
                "tags": []
            },
            "outputs": [
                {
                    "data": {
                        "text/plain": "FlightNumber       0\nDate               0\nBoosterVersion     0\nPayloadMass        5\nOrbit              0\nLaunchSite         0\nOutcome            0\nFlights            0\nGridFins           0\nReused             0\nLegs               0\nLandingPad        26\nBlock              0\nReusedCount        0\nSerial             0\nLongitude          0\nLatitude           0\ndtype: int64"
                    },
                    "execution_count": 26,
                    "metadata": {},
                    "output_type": "execute_result"
                }
            ],
            "source": "data_falcon9.isnull().sum()"
        },
        {
            "cell_type": "markdown",
            "metadata": {},
            "source": "### 3. Dealing with Missing Values\n"
        },
        {
            "cell_type": "markdown",
            "metadata": {},
            "source": "Replacing `np.nan` values for the <code>PayloadMass</code> in the data with its mean.\n"
        },
        {
            "cell_type": "code",
            "execution_count": 27,
            "metadata": {
                "tags": []
            },
            "outputs": [
                {
                    "data": {
                        "text/plain": "0        20.000000\n1      5919.165341\n2       165.000000\n3       200.000000\n4      5919.165341\n          ...     \n89    15600.000000\n90    15600.000000\n91    15600.000000\n92    15600.000000\n93     3681.000000\nName: PayloadMass, Length: 94, dtype: float64"
                    },
                    "execution_count": 27,
                    "metadata": {},
                    "output_type": "execute_result"
                }
            ],
            "source": "payload_mass_mean = df['PayloadMass'].mean()\ndf['PayloadMass'].replace(np.nan,payload_mass_mean)"
        },
        {
            "cell_type": "code",
            "execution_count": 28,
            "metadata": {
                "tags": []
            },
            "outputs": [
                {
                    "data": {
                        "text/plain": "FlightNumber       0\nDate               0\nBoosterVersion     0\nPayloadMass        5\nOrbit              0\nLaunchSite         0\nOutcome            0\nFlights            0\nGridFins           0\nReused             0\nLegs               0\nLandingPad        26\nBlock              0\nReusedCount        0\nSerial             0\nLongitude          0\nLatitude           0\ndtype: int64"
                    },
                    "execution_count": 28,
                    "metadata": {},
                    "output_type": "execute_result"
                }
            ],
            "source": "data_falcon9.isnull().sum()"
        },
        {
            "cell_type": "code",
            "execution_count": 29,
            "metadata": {
                "tags": []
            },
            "outputs": [],
            "source": "data_falcon9.to_csv('dataset_part_1.csv', index=False)"
        },
        {
            "cell_type": "markdown",
            "metadata": {},
            "source": "Copyright \u00a9 2021 IBM Corporation. All rights reserved.\n"
        }
    ],
    "metadata": {
        "kernelspec": {
            "display_name": "Python 3.10",
            "language": "python",
            "name": "python3"
        },
        "language_info": {
            "codemirror_mode": {
                "name": "ipython",
                "version": 3
            },
            "file_extension": ".py",
            "mimetype": "text/x-python",
            "name": "python",
            "nbconvert_exporter": "python",
            "pygments_lexer": "ipython3",
            "version": "3.10.9"
        }
    },
    "nbformat": 4,
    "nbformat_minor": 4
}